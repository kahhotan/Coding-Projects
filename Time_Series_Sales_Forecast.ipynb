{
  "nbformat": 4,
  "nbformat_minor": 0,
  "metadata": {
    "colab": {
      "name": "Time Series Sales Forecast",
      "provenance": [],
      "authorship_tag": "ABX9TyOMwgBCKIjkHiqLAhCUvQ2q",
      "include_colab_link": true
    },
    "kernelspec": {
      "name": "python3",
      "display_name": "Python 3"
    },
    "language_info": {
      "name": "python"
    }
  },
  "cells": [
    {
      "cell_type": "markdown",
      "metadata": {
        "id": "view-in-github",
        "colab_type": "text"
      },
      "source": [
        "<a href=\"https://colab.research.google.com/github/kahhotan/Time-Series/blob/main/Time_Series_Sales_Forecast.ipynb\" target=\"_parent\"><img src=\"https://colab.research.google.com/assets/colab-badge.svg\" alt=\"Open In Colab\"/></a>"
      ]
    },
    {
      "cell_type": "markdown",
      "metadata": {
        "id": "zlx2sjqJNQtP"
      },
      "source": [
        "In this time series, we will explore a dataset with trend and seasonality. We will then use ARIMA to do a forecast. Dataset can be downloaded fom Kaggle, Perrin Freres Monthly Champagne Sales"
      ]
    },
    {
      "cell_type": "markdown",
      "metadata": {
        "id": "udJMrxBfK3qe"
      },
      "source": [
        "# Splitting data into validation set"
      ]
    },
    {
      "cell_type": "markdown",
      "metadata": {
        "id": "U6U223b4LzQY"
      },
      "source": [
        "We will first split the data into test and validation set. The test set will be used for model development and validation set will be used to validate the model. The dataset and validation will be saved separately as a csv file for usage later on."
      ]
    },
    {
      "cell_type": "code",
      "metadata": {
        "colab": {
          "base_uri": "https://localhost:8080/"
        },
        "id": "vQ0jYVY_LATV",
        "outputId": "df4b8176-002f-416b-c9ac-e11ee967f4be"
      },
      "source": [
        "from pandas import read_csv\n",
        "\n",
        "series = read_csv('/content/sample_data/perrin-freres-monthly-champagne.csv', header=0, index_col=0, parse_dates=True, squeeze=True)\n",
        "split_point = len(series) - 12\n",
        "dataset, validation = series[0:split_point], series[split_point:]\n",
        "print('Dataset %d, Validation %d' % (len(dataset), len(validation)))\n",
        "dataset.to_csv('dataset.csv', header=False)\n",
        "validation.to_csv('validation.csv', header=False)"
      ],
      "execution_count": 1,
      "outputs": [
        {
          "output_type": "stream",
          "name": "stdout",
          "text": [
            "Dataset 93, Validation 12\n"
          ]
        }
      ]
    },
    {
      "cell_type": "markdown",
      "metadata": {
        "id": "GSaJgk00Pv8i"
      },
      "source": [
        "# Establishing a Persistence Model"
      ]
    },
    {
      "cell_type": "markdown",
      "metadata": {
        "id": "6lIA9d34Q2aW"
      },
      "source": [
        "We will first establish a baseline model, this model will provide both a template for model evaluation using proposed test harness as well as a performance measure by which all other models can be compared to. This baseline model is called a persistence model, or a naive forecast model. Root Mean Square Error (RMSE) and walk forward validation will be used for model evaluation."
      ]
    },
    {
      "cell_type": "code",
      "metadata": {
        "colab": {
          "base_uri": "https://localhost:8080/"
        },
        "id": "vybxCV8HQjpf",
        "outputId": "711002ea-ffba-4ecf-833e-e435b142a57e"
      },
      "source": [
        "from sklearn.metrics import mean_squared_error\n",
        "from math import sqrt\n",
        "\n",
        "# load dataset.csv\n",
        "series = read_csv('/content/dataset.csv', header=None, index_col=0, parse_dates=True, squeeze=True)\n",
        "\n",
        "# prepare data\n",
        "X = series.values\n",
        "X = X.astype('float32')\n",
        "train_size = int(len(X) * 0.50)\n",
        "train, test = X[0:train_size], X[train_size:]\n",
        "\n",
        "# walk-forward validation\n",
        "history = [x for x in train]\n",
        "predictions = list()\n",
        "for i in range(len(test)):\n",
        "\n",
        "  #predict\n",
        "  yhat = history[-1]\n",
        "  predictions.append(yhat)\n",
        "\n",
        "  #observation\n",
        "  obs = test[i]\n",
        "  history.append(obs)\n",
        "print('>Predicted=%.3f, Expected=%3.f' % (yhat, obs))\n",
        "\n",
        "#evaluation\n",
        "rmse = sqrt(mean_squared_error(test, predictions))\n",
        "print('RMSE: %.3f' % rmse)"
      ],
      "execution_count": 2,
      "outputs": [
        {
          "output_type": "stream",
          "name": "stdout",
          "text": [
            ">Predicted=1659.000, Expected=5951\n",
            "RMSE: 3186.501\n"
          ]
        }
      ]
    },
    {
      "cell_type": "markdown",
      "metadata": {
        "id": "jzTbVWPASvjD"
      },
      "source": [
        "# Data Analysis"
      ]
    },
    {
      "cell_type": "markdown",
      "metadata": {
        "id": "kfEFwXV7TF_e"
      },
      "source": [
        "**Summary Statistics:** These provide a rough idea of what we are working with.\n",
        "Some observations:\n",
        "\n",
        "* Average Sales is roughly 4641\n",
        "* Standard Deviation (SD) is quite large, around 2486\n",
        "* The precentiles and SD represents a large spread in the sales figure"
      ]
    },
    {
      "cell_type": "code",
      "metadata": {
        "colab": {
          "base_uri": "https://localhost:8080/"
        },
        "id": "j_5d5kfnS78M",
        "outputId": "f2982035-9ae9-4596-e2bb-151b76f94499"
      },
      "source": [
        "# summary statistics of timseriesest set\n",
        "print(series.describe())"
      ],
      "execution_count": 3,
      "outputs": [
        {
          "output_type": "stream",
          "name": "stdout",
          "text": [
            "count       93.000000\n",
            "mean      4641.118280\n",
            "std       2486.403841\n",
            "min       1573.000000\n",
            "25%       3036.000000\n",
            "50%       4016.000000\n",
            "75%       5048.000000\n",
            "max      13916.000000\n",
            "Name: 1, dtype: float64\n"
          ]
        }
      ]
    },
    {
      "cell_type": "markdown",
      "metadata": {
        "id": "RJBAuoJrTJ84"
      },
      "source": [
        "**Line Plot:** This plot shows some insights to the dataset. From here we can identify the movement of sales over time.\n",
        "\n",
        "Some Observations:\n",
        "\n",
        "* There seems to be a slight upward trend and seasonality\n",
        "* The seasonality seems to increase over time, which might suggest some usage of power transformation \n",
        "* It does show any outliers and also, the series is most probably non-stationary and we might have to do some differencing"
      ]
    },
    {
      "cell_type": "code",
      "metadata": {
        "colab": {
          "base_uri": "https://localhost:8080/",
          "height": 279
        },
        "id": "8DwjbXhtTDBK",
        "outputId": "af29c651-7748-4cb7-a907-a39a0fa5387f"
      },
      "source": [
        "# line plot of time series\n",
        "from matplotlib import pyplot\n",
        "\n",
        "series.plot()\n",
        "pyplot.show()"
      ],
      "execution_count": 4,
      "outputs": [
        {
          "output_type": "display_data",
          "data": {
            "image/png": "[encoded data removed]",
            "text/plain": [
              "<Figure size 432x288 with 1 Axes>"
            ]
          },
          "metadata": {
            "needs_background": "light"
          }
        }
      ]
    },
    {
      "cell_type": "markdown",
      "metadata": {
        "id": "TPOmWzryTPUC"
      },
      "source": [
        "**Seasonal Line Plots:** This plot seperates all 7 years of sales data into individual year and creates one line plot each. This way, we can spot any year on year seasonality.\n",
        "\n",
        " Some Observations:\n",
        "\n",
        " * We can see a slight dip in month 8 of each year, followed by an increase from month 8-12 every year"
      ]
    },
    {
      "cell_type": "code",
      "metadata": {
        "colab": {
          "base_uri": "https://localhost:8080/",
          "height": 269
        },
        "id": "okWxGvwZTR_c",
        "outputId": "dda51a73-58e7-4bbb-fa50-e7f871967e7c"
      },
      "source": [
        "# multiple line plots of time series\n",
        "from pandas import DataFrame\n",
        "from pandas import Grouper\n",
        "\n",
        "groups = series['1964':'1970'].groupby(Grouper(freq='A'))\n",
        "years = DataFrame()\n",
        "pyplot.figure()\n",
        "i = 1\n",
        "n_groups = len(groups)\n",
        "for name, group in groups:\n",
        "  pyplot.subplot((n_groups*100) + 10 + i)\n",
        "  i += 1\n",
        "  pyplot.plot(group)\n",
        "pyplot.show()"
      ],
      "execution_count": 5,
      "outputs": [
        {
          "output_type": "display_data",
          "data": {
            "image/png": "[encoded data removed]",
            "text/plain": [
              "<Figure size 432x288 with 7 Axes>"
            ]
          },
          "metadata": {
            "needs_background": "light"
          }
        }
      ]
    },
    {
      "cell_type": "markdown",
      "metadata": {
        "id": "DbiXDVL4TpJ5"
      },
      "source": [
        "**Density Plot:** This plot shows the distribution of the datapoints.\n",
        "\n",
        "Some observations#\n",
        "\n",
        "* The distribution is not gaussian, it has a long right tail and might suggest an exponential distribution. Power transformation is most definetly needed."
      ]
    },
    {
      "cell_type": "code",
      "metadata": {
        "colab": {
          "base_uri": "https://localhost:8080/",
          "height": 265
        },
        "id": "uerP-JF_TqVI",
        "outputId": "01612ed9-339e-4872-a2ad-3c1be9d50e8f"
      },
      "source": [
        "# density plots of time series\n",
        "\n",
        "pyplot.figure(1)\n",
        "pyplot.subplot(211)\n",
        "series.hist()\n",
        "pyplot.subplot(212)\n",
        "series.plot(kind='kde')\n",
        "pyplot.show()"
      ],
      "execution_count": 6,
      "outputs": [
        {
          "output_type": "display_data",
          "data": {
            "image/png": "[encoded data removed]",
            "text/plain": [
              "<Figure size 432x288 with 2 Axes>"
            ]
          },
          "metadata": {
            "needs_background": "light"
          }
        }
      ]
    },
    {
      "cell_type": "markdown",
      "metadata": {
        "id": "qBRc5gLBTxXf"
      },
      "source": [
        "**Box and Whisker Plot:** This plot shows the spread of the data and we can observe how it is changing. Note: The final year, 1971, has only up to 9 months of datapoints, which would not be a useful comparison.\n",
        "\n",
        "Some observations:\n",
        "\n",
        "* The median (green line) may show an increasing trend\n",
        "* There are outliers each year\n",
        "* Year 1970 seems to deviate slightly from the trend pattern compared to prior years"
      ]
    },
    {
      "cell_type": "code",
      "metadata": {
        "colab": {
          "base_uri": "https://localhost:8080/",
          "height": 265
        },
        "id": "xPdK7F1ATzxj",
        "outputId": "8280309e-8ed0-40e7-99c5-7364c70758e7"
      },
      "source": [
        "# boxplots of time series\n",
        "\n",
        "groups = series['1964':'1970'].groupby(Grouper(freq='A'))\n",
        "years = DataFrame()\n",
        "for name, group in groups:\n",
        "  years[name.year] = group.values\n",
        "years.boxplot()\n",
        "pyplot.show()"
      ],
      "execution_count": 7,
      "outputs": [
        {
          "output_type": "display_data",
          "data": {
            "image/png": "[encoded data removed]",
            "text/plain": [
              "<Figure size 432x288 with 1 Axes>"
            ]
          },
          "metadata": {
            "needs_background": "light"
          }
        }
      ]
    },
    {
      "cell_type": "markdown",
      "metadata": {
        "id": "IKYSmp-dT9xl"
      },
      "source": [
        "# ARIMA Modelling"
      ]
    },
    {
      "cell_type": "markdown",
      "metadata": {
        "id": "DBaUwQn8zR_0"
      },
      "source": [
        "ARIMA model assumes that the time series is stationary. We will first do a differencing, followed by a statistical test (Augmented Dicky Fuller, ADF) to confirm stationarity. Seasonal data can be differenced by subtracting the observation from the same time in the previous cycle, this means we will lose the first year of observations as there is no prior year to difference with."
      ]
    },
    {
      "cell_type": "markdown",
      "metadata": {
        "id": "s6xmIkG2UAC1"
      },
      "source": [
        "**Differencing the time series**"
      ]
    },
    {
      "cell_type": "code",
      "metadata": {
        "colab": {
          "base_uri": "https://localhost:8080/",
          "height": 434
        },
        "id": "qerpU8BQUDRS",
        "outputId": "7d8f785b-71df-4733-9572-aac5655abd50"
      },
      "source": [
        "# create and summarize stationary version of time series\n",
        "from pandas import Series\n",
        "from statsmodels.tsa.stattools import adfuller\n",
        "\n",
        "# create a differenced series\n",
        "def difference(dataset, interval=1):\n",
        "  diff = list()\n",
        "  for i in range(interval, len(dataset)):\n",
        "      value = dataset[i] - dataset[i - interval]\n",
        "      diff.append(value)\n",
        "  return Series(diff)\n",
        "\n",
        "series = read_csv('/content/dataset.csv', header=None, index_col=0, parse_dates=True, squeeze=True)\n",
        "X = series.values\n",
        "X = X.astype('float32')\n",
        "\n",
        "# difference data\n",
        "months_in_year = 12\n",
        "stationary = difference(X, months_in_year)\n",
        "stationary.index = series.index[months_in_year:]\n",
        "\n",
        "# check if stationary\n",
        "result = adfuller(stationary)\n",
        "print('ADF Statistic: %f' % result[0])\n",
        "print('p-value: %f' % result[1])\n",
        "print('Critical Values:')\n",
        "for key, value in result[4].items():\n",
        "  print('\\t%s: %.3f' % (key, value))\n",
        "\n",
        "# save as csv\n",
        "stationary.to_csv('stationary.csv', header=False)\n",
        "\n",
        "# plot\n",
        "stationary.plot()\n",
        "pyplot.show()"
      ],
      "execution_count": 8,
      "outputs": [
        {
          "output_type": "stream",
          "name": "stderr",
          "text": [
            "/usr/local/lib/python3.7/dist-packages/statsmodels/tools/_testing.py:19: FutureWarning: pandas.util.testing is deprecated. Use the functions in the public API at pandas.testing instead.\n",
            "  import pandas.util.testing as tm\n"
          ]
        },
        {
          "output_type": "stream",
          "name": "stdout",
          "text": [
            "ADF Statistic: -7.134898\n",
            "p-value: 0.000000\n",
            "Critical Values:\n",
            "\t1%: -3.515\n",
            "\t5%: -2.898\n",
            "\t10%: -2.586\n"
          ]
        },
        {
          "output_type": "display_data",
          "data": {
            "image/png": "[encoded data removed]",
            "text/plain": [
              "<Figure size 432x288 with 1 Axes>"
            ]
          },
          "metadata": {
            "needs_background": "light"
          }
        }
      ]
    },
    {
      "cell_type": "markdown",
      "metadata": {
        "id": "B3TRff9P2jSH"
      },
      "source": [
        "The ADF statistics shows a value of -7.134898, which is smaller than the critical value at 1% of -3.515. This suggests that we can reject the null hypothesis with a significant value of 1%, which means that this series has no unit root, or does not have a time dependent structure.\n",
        "\n",
        "A plot of the differenced dataset is also created, and it does not show any obvious trend or seasonality. This suggests that no furthur differencing may be required, and the d parameter may be set to 0. We can now use this differenced dataset for ARIMA modelling."
      ]
    },
    {
      "cell_type": "markdown",
      "metadata": {
        "id": "Jmx0MHpn0h6S"
      },
      "source": [
        "**ACF and PACF plots:** Ths next step is to select the lag values for the Autoregression (AR, p) and the Moving Average (MA, q) portion of the ARIMA model."
      ]
    },
    {
      "cell_type": "code",
      "metadata": {
        "colab": {
          "base_uri": "https://localhost:8080/",
          "height": 281
        },
        "id": "PmIzXve3BE7k",
        "outputId": "572d0602-e8d6-4b17-b166-80eaece3e3e9"
      },
      "source": [
        "# ACF and PACF plots of time series\n",
        "from statsmodels.graphics.tsaplots import plot_acf\n",
        "from statsmodels.graphics.tsaplots import plot_pacf\n",
        "\n",
        "series = read_csv('/content/stationary.csv', header=None, index_col=0, parse_dates=True, squeeze=True)\n",
        "pyplot.figure()\n",
        "pyplot.subplot(211)\n",
        "plot_acf(series, lags=25, ax=pyplot.gca())\n",
        "pyplot.subplot(212)\n",
        "plot_pacf(series, lags=25, ax=pyplot.gca())\n",
        "pyplot.show()"
      ],
      "execution_count": 9,
      "outputs": [
        {
          "output_type": "display_data",
          "data": {
            "image/png": "[encoded data removed]",
            "text/plain": [
              "<Figure size 432x288 with 2 Axes>"
            ]
          },
          "metadata": {
            "needs_background": "light"
          }
        }
      ]
    },
    {
      "cell_type": "markdown",
      "metadata": {
        "id": "WaA5VNFLzMia"
      },
      "source": [
        "Based on the ACF and PACF, both shows a drop off at some point, perhaps suggesting a mix of AR and MA. Also, both shows a significant lag at 1 month while PACF shows some significant lags at around 12 and 13 months. Based on the observations of the model, we can first try an ARIMA (1,1,1) model."
      ]
    },
    {
      "cell_type": "code",
      "metadata": {
        "colab": {
          "base_uri": "https://localhost:8080/"
        },
        "id": "1trGxfvhBQ2y",
        "outputId": "a4545218-fb4d-4cc2-d407-ecc6aa9be5e5"
      },
      "source": [
        "# evaluate manually configured ARIMA model\n",
        "from statsmodels.tsa.arima_model import ARIMA\n",
        "\n",
        "# create a differenced series\n",
        "def difference(dataset, interval=1):\n",
        "  diff = list()\n",
        "  for i in range(interval, len(dataset)):\n",
        "      value = dataset[i] - dataset[i - interval]\n",
        "      diff.append(value)\n",
        "  return Series(diff)\n",
        "\n",
        "# invert differenced value\n",
        "def inverse_difference(history, yhat, interval=1):\n",
        "  return yhat + history[-interval]\n",
        "\n",
        "# load data\n",
        "series = read_csv('/content/dataset.csv', header=None, index_col=0, parse_dates=True, squeeze=True)\n",
        "\n",
        "# prepare data\n",
        "X = series.values\n",
        "X = X.astype('float32')\n",
        "train_size = int(len(X) * 0.50)\n",
        "train, test = X[0:train_size], X[train_size:]\n",
        "\n",
        "# walk-forward validation\n",
        "history = [x for x in train]\n",
        "predictions = list()\n",
        "for i in range(len(test)):\n",
        "\n",
        "  # difference data\n",
        "  months_in_year = 12\n",
        "  diff = difference(history, months_in_year)\n",
        "\n",
        "  # predict\n",
        "  model = ARIMA(diff, order=(1,1,1))\n",
        "  model_fit = model.fit(trend='nc', disp=0)\n",
        "  yhat = model_fit.forecast()[0]\n",
        "  yhat = inverse_difference(history, yhat, months_in_year)\n",
        "  predictions.append(yhat)\n",
        "\n",
        "  # observation\n",
        "  obs = test[i]\n",
        "  history.append(obs)\n",
        "  print('>Predicted=%.3f, Expected=%.3f' % (yhat, obs))\n",
        "\n",
        "# report performance\n",
        "rmse = sqrt(mean_squared_error(test, predictions))\n",
        "print('RMSE: %.3f' % rmse)"
      ],
      "execution_count": 10,
      "outputs": [
        {
          "output_type": "stream",
          "name": "stdout",
          "text": [
            ">Predicted=8089.892, Expected=8314.000\n",
            ">Predicted=9742.786, Expected=10651.000\n",
            ">Predicted=5986.916, Expected=3633.000\n",
            ">Predicted=3886.954, Expected=4292.000\n",
            ">Predicted=4038.120, Expected=4154.000\n",
            ">Predicted=4992.340, Expected=4121.000\n",
            ">Predicted=5156.385, Expected=4647.000\n",
            ">Predicted=5046.669, Expected=4753.000\n",
            ">Predicted=4143.877, Expected=3965.000\n",
            ">Predicted=2102.942, Expected=1723.000\n",
            ">Predicted=5228.292, Expected=5048.000\n",
            ">Predicted=5873.444, Expected=6922.000\n",
            ">Predicted=8571.264, Expected=9858.000\n",
            ">Predicted=11006.038, Expected=11331.000\n",
            ">Predicted=4087.455, Expected=4016.000\n",
            ">Predicted=4771.842, Expected=3957.000\n",
            ">Predicted=4676.086, Expected=4510.000\n",
            ">Predicted=4583.396, Expected=4276.000\n",
            ">Predicted=5117.345, Expected=4968.000\n",
            ">Predicted=5208.150, Expected=4677.000\n",
            ">Predicted=4436.445, Expected=3523.000\n",
            ">Predicted=2180.952, Expected=1821.000\n",
            ">Predicted=5471.264, Expected=5222.000\n",
            ">Predicted=7337.610, Expected=6872.000\n",
            ">Predicted=10268.369, Expected=10803.000\n",
            ">Predicted=11725.422, Expected=13916.000\n",
            ">Predicted=4519.589, Expected=2639.000\n",
            ">Predicted=4606.103, Expected=2899.000\n",
            ">Predicted=4939.026, Expected=3370.000\n",
            ">Predicted=4495.261, Expected=3740.000\n",
            ">Predicted=5109.010, Expected=2927.000\n",
            ">Predicted=4285.914, Expected=3986.000\n",
            ">Predicted=3155.258, Expected=4217.000\n",
            ">Predicted=1830.004, Expected=1738.000\n",
            ">Predicted=5135.172, Expected=5221.000\n",
            ">Predicted=6806.894, Expected=6424.000\n",
            ">Predicted=10644.038, Expected=9842.000\n",
            ">Predicted=13605.824, Expected=13076.000\n",
            ">Predicted=2265.382, Expected=3934.000\n",
            ">Predicted=2938.909, Expected=3162.000\n",
            ">Predicted=3341.706, Expected=4286.000\n",
            ">Predicted=3882.925, Expected=4676.000\n",
            ">Predicted=3157.016, Expected=5010.000\n",
            ">Predicted=4615.084, Expected=4874.000\n",
            ">Predicted=4625.000, Expected=4633.000\n",
            ">Predicted=2044.095, Expected=1659.000\n",
            ">Predicted=5404.428, Expected=5951.000\n",
            "RMSE: 956.960\n"
          ]
        }
      ]
    },
    {
      "cell_type": "markdown",
      "metadata": {
        "id": "v4thk6aq2Ize"
      },
      "source": [
        "Based on ARIMA (1,1,1) the RMSE is 956.960, which is significantly lower than the persistence's model's RMSE of 3186.501."
      ]
    },
    {
      "cell_type": "markdown",
      "metadata": {
        "id": "nNmbqSYk3pXp"
      },
      "source": [
        "**Grid Search ARIMA Parameters**"
      ]
    },
    {
      "cell_type": "markdown",
      "metadata": {
        "id": "iaiZLesi3udL"
      },
      "source": [
        "A grid search explores all possible combinations based on our input parameters. We will try p: 0-6, d: 0-2, q: 0-6, which is a total of 147 iterations. We can also try an MA model with lags of 12 and 13, but experimentation has shown that these models are not stable. The grid search will return a combination of p,d,q with the lowest RMSE."
      ]
    },
    {
      "cell_type": "code",
      "metadata": {
        "colab": {
          "base_uri": "https://localhost:8080/"
        },
        "id": "FLOtgUrJCh5j",
        "outputId": "3819328b-afea-400c-f325-e789ffd5b388"
      },
      "source": [
        "# grid search ARIMA parameters for time series\n",
        "import warnings\n",
        "import numpy\n",
        "\n",
        "# create a differenced series\n",
        "def difference(dataset, interval=1):\n",
        "  diff = list()\n",
        "  for i in range(interval, len(dataset)):\n",
        "      value = dataset[i] - dataset[i - interval]\n",
        "      diff.append(value)\n",
        "  return numpy.array(diff)\n",
        "\n",
        "# invert differenced value\n",
        "def inverse_difference(history, yhat, interval=1):\n",
        "  return yhat + history[-interval]\n",
        "\n",
        "# evaluate an ARIMA model for a given order (p,d,q) and return RMSE\n",
        "def evaluate_arima_model(X, arima_order):\n",
        "\n",
        "  # prepare training dataset\n",
        "  X = X.astype('float32')\n",
        "  train_size = int(len(X) * 0.50)\n",
        "  train, test = X[0:train_size], X[train_size:]\n",
        "  history = [x for x in train]\n",
        "\n",
        "  # make predictions\n",
        "  predictions = list()\n",
        "  for t in range(len(test)):\n",
        "\n",
        "    # difference data\n",
        "    months_in_year = 12\n",
        "    diff = difference(history, months_in_year)\n",
        "    model = ARIMA(diff, order=arima_order)\n",
        "    model_fit = model.fit(trend='nc', disp=0)\n",
        "    yhat = model_fit.forecast()[0]\n",
        "    yhat = inverse_difference(history, yhat, months_in_year)\n",
        "    predictions.append(yhat)\n",
        "    history.append(test[t])\n",
        "\n",
        "  # calculate out of sample error\n",
        "  rmse = sqrt(mean_squared_error(test, predictions))\n",
        "  return rmse\n",
        "\n",
        "# evaluate combinations of p, d and q values for an ARIMA model\n",
        "def evaluate_models(dataset, p_values, d_values, q_values):\n",
        "  dataset = dataset.astype('float32')\n",
        "  best_score, best_cfg = float(\"inf\"), None\n",
        "  for p in p_values:\n",
        "    for d in d_values:\n",
        "      for q in q_values:\n",
        "        order = (p,d,q)\n",
        "        try:\n",
        "          rmse = evaluate_arima_model(dataset, order)\n",
        "          if rmse < best_score:\n",
        "            best_score, best_cfg = rmse, order\n",
        "          print('ARIMA%s RMSE=%.3f' % (order,rmse))\n",
        "        except:\n",
        "          continue\n",
        "  print('Best ARIMA%s RMSE=%.3f' % (best_cfg, best_score))\n",
        "\n",
        "# load dataset\n",
        "series = read_csv('/content/dataset.csv', header=None, index_col=0, parse_dates=True, squeeze=True)\n",
        "\n",
        "# evaluate parameters\n",
        "p_values = range(0, 7)\n",
        "d_values = range(0, 3)\n",
        "q_values = range(0, 7)\n",
        "warnings.filterwarnings(\"ignore\")\n",
        "evaluate_models(series.values, p_values, d_values, q_values)"
      ],
      "execution_count": 11,
      "outputs": [
        {
          "output_type": "stream",
          "name": "stdout",
          "text": [
            "ARIMA(0, 0, 1) RMSE=939.464\n",
            "ARIMA(0, 0, 2) RMSE=962.289\n",
            "ARIMA(0, 0, 3) RMSE=944.237\n",
            "ARIMA(0, 0, 4) RMSE=958.792\n",
            "ARIMA(0, 0, 5) RMSE=986.834\n",
            "ARIMA(0, 0, 6) RMSE=1087.017\n",
            "ARIMA(0, 1, 1) RMSE=958.297\n",
            "ARIMA(0, 2, 1) RMSE=1146.987\n",
            "ARIMA(1, 0, 0) RMSE=944.449\n",
            "ARIMA(1, 1, 0) RMSE=1070.204\n",
            "ARIMA(1, 1, 1) RMSE=956.960\n",
            "ARIMA(1, 2, 0) RMSE=1555.858\n",
            "ARIMA(2, 0, 0) RMSE=955.134\n",
            "ARIMA(2, 0, 1) RMSE=948.621\n",
            "ARIMA(2, 1, 0) RMSE=1030.467\n",
            "ARIMA(2, 1, 1) RMSE=980.923\n",
            "ARIMA(2, 2, 0) RMSE=1346.598\n",
            "ARIMA(2, 2, 1) RMSE=1039.636\n",
            "ARIMA(3, 0, 0) RMSE=959.165\n",
            "ARIMA(3, 1, 0) RMSE=1028.226\n",
            "ARIMA(3, 1, 1) RMSE=979.939\n",
            "ARIMA(3, 2, 0) RMSE=1244.847\n",
            "ARIMA(4, 0, 0) RMSE=968.411\n",
            "ARIMA(4, 0, 1) RMSE=911.526\n",
            "ARIMA(4, 1, 0) RMSE=1046.524\n",
            "ARIMA(4, 1, 1) RMSE=1006.254\n",
            "ARIMA(4, 1, 2) RMSE=993.647\n",
            "ARIMA(4, 2, 0) RMSE=1227.555\n",
            "ARIMA(4, 2, 1) RMSE=1055.488\n",
            "ARIMA(5, 0, 0) RMSE=987.690\n",
            "ARIMA(5, 1, 0) RMSE=1042.642\n",
            "ARIMA(5, 1, 1) RMSE=1023.404\n",
            "ARIMA(5, 1, 2) RMSE=1003.165\n",
            "ARIMA(5, 2, 1) RMSE=1053.730\n",
            "ARIMA(6, 0, 0) RMSE=996.466\n",
            "ARIMA(6, 0, 1) RMSE=1059.794\n",
            "ARIMA(6, 0, 2) RMSE=927.102\n",
            "ARIMA(6, 1, 0) RMSE=1018.211\n",
            "ARIMA(6, 1, 1) RMSE=1023.761\n",
            "Best ARIMA(4, 0, 1) RMSE=911.526\n"
          ]
        }
      ]
    },
    {
      "cell_type": "markdown",
      "metadata": {
        "id": "UCGirL665qVQ"
      },
      "source": [
        "Base on grid search, ARIMA (4,0,1) has the lowest RMSE of 911.526. This is better as compared to our previous ARIMA (1,1,1) model, with a RMSE of 956.960. But upon reviweing residuals of ARIMA (4,0,1), it is not a good fit, the same for the second lowest RMSE model, ARIMA (6,0,2). As such, we will proceed with the third lowest RMSE, ARIMA (0,0,1)."
      ]
    },
    {
      "cell_type": "markdown",
      "metadata": {
        "id": "F1H4WUbZtT7s"
      },
      "source": [
        "**Reviewing Residual Errors**"
      ]
    },
    {
      "cell_type": "markdown",
      "metadata": {
        "id": "bMohO1g06H24"
      },
      "source": [
        "We will now check the residuals of the ARIMA (0,0,1) model. Ideally, what we want is a gaussian distribution with a close to 0 mean."
      ]
    },
    {
      "cell_type": "code",
      "metadata": {
        "colab": {
          "base_uri": "https://localhost:8080/",
          "height": 432
        },
        "id": "hnfkQp8oCoYC",
        "outputId": "4b989083-eb1b-499f-e550-d3e625edf5f1"
      },
      "source": [
        "# summarize ARIMA forecast residuals\n",
        "\n",
        "# create a differenced series\n",
        "def difference(dataset, interval=1):\n",
        "  diff = list()\n",
        "  for i in range(interval, len(dataset)):\n",
        "      value = dataset[i] - dataset[i - interval]\n",
        "      diff.append(value)\n",
        "  return diff\n",
        "\n",
        "# invert differenced value\n",
        "def inverse_difference(history, yhat, interval=1):\n",
        "  return yhat + history[-interval]\n",
        "\n",
        "# load data\n",
        "series = read_csv('/content/dataset.csv', header=None, index_col=0, parse_dates=True, squeeze=True)\n",
        "\n",
        "# prepare data\n",
        "X = series.values\n",
        "X = X.astype('float32')\n",
        "train_size = int(len(X) * 0.50)\n",
        "train, test = X[0:train_size], X[train_size:]\n",
        "\n",
        "# walk-forward validation\n",
        "history = [x for x in train]\n",
        "predictions = list()\n",
        "for i in range(len(test)):\n",
        "\n",
        "  # difference data\n",
        "  months_in_year = 12\n",
        "  diff = difference(history, months_in_year)\n",
        "\n",
        "  # predict\n",
        "  model = ARIMA(diff, order=(0,0,1))\n",
        "  model_fit = model.fit(trend='nc', disp=0)\n",
        "  yhat = model_fit.forecast()[0]\n",
        "  yhat = inverse_difference(history, yhat, months_in_year)\n",
        "  predictions.append(yhat)\n",
        "\n",
        "  # observation\n",
        "  obs = test[i]\n",
        "  history.append(obs)\n",
        "\n",
        "# errors\n",
        "residuals = [test[i]-predictions[i] for i in range(len(test))]\n",
        "residuals = DataFrame(residuals)\n",
        "print(residuals.describe())\n",
        "\n",
        "# plot\n",
        "pyplot.figure()\n",
        "pyplot.subplot(211)\n",
        "residuals.hist(ax=pyplot.gca())\n",
        "pyplot.subplot(212)\n",
        "residuals.plot(kind='kde', ax=pyplot.gca())\n",
        "pyplot.show()"
      ],
      "execution_count": 12,
      "outputs": [
        {
          "output_type": "stream",
          "name": "stdout",
          "text": [
            "                 0\n",
            "count    47.000000\n",
            "mean    165.904741\n",
            "std     934.696212\n",
            "min   -2164.247449\n",
            "25%    -289.651667\n",
            "50%     191.759548\n",
            "75%     732.992187\n",
            "max    2367.304868\n"
          ]
        },
        {
          "output_type": "display_data",
          "data": {
            "image/png": "[encoded data removed]",
            "text/plain": [
              "<Figure size 432x288 with 2 Axes>"
            ]
          },
          "metadata": {
            "needs_background": "light"
          }
        }
      ]
    },
    {
      "cell_type": "markdown",
      "metadata": {
        "id": "FCgAQYVe6nhM"
      },
      "source": [
        "Based on the density plot, we can see a it has a slight right shift and the mean is non-zero. This suggests that the predictions might be biased."
      ]
    },
    {
      "cell_type": "markdown",
      "metadata": {
        "id": "ohAzGJimthgk"
      },
      "source": [
        "**Bias Correction**"
      ]
    },
    {
      "cell_type": "markdown",
      "metadata": {
        "id": "0tBmumnO7jLk"
      },
      "source": [
        "We can correct the errors in the bias by adding the mean residual error of 165.904741 to each forecast made."
      ]
    },
    {
      "cell_type": "code",
      "metadata": {
        "colab": {
          "base_uri": "https://localhost:8080/",
          "height": 449
        },
        "id": "VBDAGadrLzMF",
        "outputId": "4f532039-760b-4bac-d3a1-e2adcff84db5"
      },
      "source": [
        "# plots of residual errors of bias corrected forecasts\n",
        "from pandas import DataFrame\n",
        "\n",
        "# create a differenced series\n",
        "def difference(dataset, interval=1):\n",
        "  diff = list()\n",
        "  for i in range(interval, len(dataset)):\n",
        "      value = dataset[i] - dataset[i - interval]\n",
        "      diff.append(value)\n",
        "  return diff\n",
        "\n",
        "# invert differenced value\n",
        "def inverse_difference(history, yhat, interval=1):\n",
        "  return yhat + history[-interval]\n",
        "\n",
        "# load data\n",
        "series = read_csv('/content/dataset.csv', header=None, index_col=0, parse_dates=True, squeeze=True)\n",
        "\n",
        "# prepare data\n",
        "X = series.values\n",
        "X = X.astype('float32')\n",
        "train_size = int(len(X) * 0.50)\n",
        "train, test = X[0:train_size], X[train_size:]\n",
        "\n",
        "# walk-forward validation\n",
        "history = [x for x in train]\n",
        "predictions = list()\n",
        "bias = 165.904741\n",
        "for i in range(len(test)):\n",
        "\n",
        "  # difference data\n",
        "  months_in_year = 12\n",
        "  diff = difference(history, months_in_year)\n",
        "\n",
        "  # predict\n",
        "  model = ARIMA(diff, order=(0,0,1))\n",
        "  model_fit = model.fit(trend='nc', disp=0)\n",
        "  yhat = model_fit.forecast()[0]\n",
        "  yhat = bias + inverse_difference(history, yhat, months_in_year)\n",
        "  predictions.append(yhat)\n",
        "\n",
        "  # observation\n",
        "  obs = test[i]\n",
        "  history.append(obs)\n",
        "\n",
        "# report performance\n",
        "rmse = sqrt(mean_squared_error(test, predictions))\n",
        "print('RMSE: %.3f' % rmse)\n",
        "\n",
        "# errors\n",
        "residuals = [test[i]-predictions[i] for i in range(len(test))]\n",
        "residuals = DataFrame(residuals)\n",
        "print(residuals.describe())\n",
        "\n",
        "# plot\n",
        "pyplot.figure()\n",
        "pyplot.subplot(211)\n",
        "residuals.hist(ax=pyplot.gca())\n",
        "pyplot.subplot(212)\n",
        "residuals.plot(kind='kde', ax=pyplot.gca())\n",
        "pyplot.show()"
      ],
      "execution_count": 13,
      "outputs": [
        {
          "output_type": "stream",
          "name": "stdout",
          "text": [
            "RMSE: 924.699\n",
            "                  0\n",
            "count  4.700000e+01\n",
            "mean   4.172649e-07\n",
            "std    9.346962e+02\n",
            "min   -2.330152e+03\n",
            "25%   -4.555564e+02\n",
            "50%    2.585481e+01\n",
            "75%    5.670874e+02\n",
            "max    2.201400e+03\n"
          ]
        },
        {
          "output_type": "display_data",
          "data": {
            "image/png": "[encoded data removed]",
            "text/plain": [
              "<Figure size 432x288 with 2 Axes>"
            ]
          },
          "metadata": {
            "needs_background": "light"
          }
        }
      ]
    },
    {
      "cell_type": "markdown",
      "metadata": {
        "id": "y3_V4QXY_0ty"
      },
      "source": [
        "The performance of the prediction has improved slightly, from 939.464 to 924.699. Also, the mean of the residuals are near zero. Although the density plot shows a very small shift towards zero, it is debatable if this correction is worth it."
      ]
    },
    {
      "cell_type": "code",
      "metadata": {
        "colab": {
          "base_uri": "https://localhost:8080/",
          "height": 432
        },
        "id": "Yx6fb_DlM8RY",
        "outputId": "69eff6de-3a13-4bb8-a4f0-f41340a78657"
      },
      "source": [
        "# ACF and PACF plots of residual errors of bias corrected forecasts\n",
        "\n",
        "# create a differenced series\n",
        "def difference(dataset, interval=1):\n",
        "  diff = list()\n",
        "  for i in range(interval, len(dataset)):\n",
        "      value = dataset[i] - dataset[i - interval]\n",
        "      diff.append(value)\n",
        "  return diff\n",
        "\n",
        "# invert differenced value\n",
        "def inverse_difference(history, yhat, interval=1):\n",
        "  return yhat + history[-interval]\n",
        "\n",
        "# load data\n",
        "series = read_csv('/content/dataset.csv', header=None, index_col=0, parse_dates=True, squeeze=True)\n",
        "\n",
        "# prepare data\n",
        "X = series.values\n",
        "X = X.astype('float32')\n",
        "train_size = int(len(X) * 0.50)\n",
        "train, test = X[0:train_size], X[train_size:]\n",
        "\n",
        "# walk-forward validation\n",
        "history = [x for x in train]\n",
        "predictions = list()\n",
        "for i in range(len(test)):\n",
        "\n",
        "  # difference data\n",
        "  months_in_year = 12\n",
        "  diff = difference(history, months_in_year)\n",
        "\n",
        "  # predict\n",
        "  model = ARIMA(diff, order=(0,0,1))\n",
        "  model_fit = model.fit(trend='nc', disp=0)\n",
        "  yhat = model_fit.forecast()[0]\n",
        "  yhat = inverse_difference(history, yhat, months_in_year)\n",
        "  predictions.append(yhat)\n",
        "\n",
        "  # observation\n",
        "  obs = test[i]\n",
        "  history.append(obs)\n",
        "\n",
        "# errors\n",
        "residuals = [test[i]-predictions[i] for i in range(len(test))]\n",
        "residuals = DataFrame(residuals)\n",
        "print(residuals.describe())\n",
        "\n",
        "# plot\n",
        "pyplot.figure()\n",
        "pyplot.subplot(211)\n",
        "plot_acf(residuals, ax=pyplot.gca())\n",
        "pyplot.subplot(212)\n",
        "plot_pacf(residuals, ax=pyplot.gca())\n",
        "pyplot.show()"
      ],
      "execution_count": 14,
      "outputs": [
        {
          "output_type": "stream",
          "name": "stdout",
          "text": [
            "                 0\n",
            "count    47.000000\n",
            "mean    165.904741\n",
            "std     934.696212\n",
            "min   -2164.247449\n",
            "25%    -289.651667\n",
            "50%     191.759548\n",
            "75%     732.992187\n",
            "max    2367.304868\n"
          ]
        },
        {
          "output_type": "display_data",
          "data": {
            "image/png": "[encoded data removed]",
            "text/plain": [
              "<Figure size 432x288 with 2 Axes>"
            ]
          },
          "metadata": {
            "needs_background": "light"
          }
        }
      ]
    },
    {
      "cell_type": "markdown",
      "metadata": {
        "id": "j-vQK6m1Tvgt"
      },
      "source": [
        "Most of the lags of both ACF and PACF are within significance, the larger lags that exceed the significant area can be considered as white noise."
      ]
    },
    {
      "cell_type": "markdown",
      "metadata": {
        "id": "XEzcNYFpUBzG"
      },
      "source": [
        "# Finalize model"
      ]
    },
    {
      "cell_type": "markdown",
      "metadata": {
        "id": "LcLT8Zq4UNFK"
      },
      "source": [
        "We will train the ARIMA (0,0,1) model and save the bias and the fit into seperate csv files."
      ]
    },
    {
      "cell_type": "code",
      "metadata": {
        "id": "rKh_wJQ2M-2J"
      },
      "source": [
        "# save finalized model\n",
        "\n",
        "# monkey patch around bug in ARIMA class\n",
        "#def __getnewargs__(self):\n",
        "#  return ((self.endog),(self.k_lags, self.k_diff, self.k_ma))\n",
        "#ARIMA.__getnewargs__ = __getnewargs__\n",
        "\n",
        "# create a differenced series\n",
        "def difference(dataset, interval=1):\n",
        "  diff = list()\n",
        "  for i in range(interval, len(dataset)):\n",
        "    value = dataset[i] - dataset[i - interval]\n",
        "    diff.append(value)\n",
        "  return diff\n",
        "\n",
        "# load data\n",
        "series = read_csv('/content/dataset.csv', header=None, index_col=0, parse_dates=True, squeeze=True)\n",
        "\n",
        "# prepare data\n",
        "X = series.values\n",
        "X = X.astype('float32')\n",
        "\n",
        "# difference data\n",
        "months_in_year = 12\n",
        "diff = difference(X, months_in_year)\n",
        "\n",
        "# fit model\n",
        "model = ARIMA(diff, order=(0,0,1))\n",
        "model_fit = model.fit(trend='nc', disp=0)\n",
        "\n",
        "# bias constant, could be calculated from in-sample mean residual\n",
        "bias = 165.904728\n",
        "\n",
        "# save model\n",
        "model_fit.save('model.pkl')\n",
        "numpy.save('model_bias.npy', [bias])"
      ],
      "execution_count": 15,
      "outputs": []
    },
    {
      "cell_type": "markdown",
      "metadata": {
        "id": "ZN1BdB1qUd32"
      },
      "source": [
        "We will build the prediction model"
      ]
    },
    {
      "cell_type": "code",
      "metadata": {
        "id": "KD1CyQQACvpp",
        "colab": {
          "base_uri": "https://localhost:8080/"
        },
        "outputId": "709f0cde-dda5-4e88-dd7c-703087a07660"
      },
      "source": [
        "# load finalized model and make a prediction\n",
        "from statsmodels.tsa.arima_model import ARIMAResults\n",
        "\n",
        "# invert differenced value\n",
        "def inverse_difference(history, yhat, interval=1):\n",
        "  return yhat + history[-interval]\n",
        "series = read_csv('/content/dataset.csv', header=None, index_col=0, parse_dates=True, squeeze=True)\n",
        "months_in_year = 12\n",
        "model_fit = ARIMAResults.load('/content/model.pkl')\n",
        "bias = numpy.load('/content/model_bias.npy')\n",
        "yhat = float(model_fit.forecast()[0])\n",
        "yhat = bias + inverse_difference(series.values, yhat, months_in_year)\n",
        "print('Predicted: %.3f' % yhat)"
      ],
      "execution_count": 16,
      "outputs": [
        {
          "output_type": "stream",
          "name": "stdout",
          "text": [
            "Predicted: 6794.773\n"
          ]
        }
      ]
    },
    {
      "cell_type": "markdown",
      "metadata": {
        "id": "c7RIvR87UkXJ"
      },
      "source": [
        "We can see that the predicted value of is 6794.773, quite close to the first value of the validation set, 6981."
      ]
    },
    {
      "cell_type": "markdown",
      "metadata": {
        "id": "yaN0qQGTUq18"
      },
      "source": [
        "We will now evaluate the finalized model on the validation set and plot the prediction"
      ]
    },
    {
      "cell_type": "code",
      "metadata": {
        "id": "EXlMCTihCxQW",
        "colab": {
          "base_uri": "https://localhost:8080/",
          "height": 483
        },
        "outputId": "4e98e800-fb17-4f18-ea45-5884d9881885"
      },
      "source": [
        "# load and evaluate the finalized model on the validation dataset\n",
        "\n",
        "# create a differenced series\n",
        "def difference(dataset, interval=1):\n",
        "  diff = list()\n",
        "  for i in range(interval, len(dataset)):\n",
        "    value = dataset[i] - dataset[i - interval]\n",
        "    diff.append(value)\n",
        "  return diff\n",
        "\n",
        "# invert differenced value\n",
        "def inverse_difference(history, yhat, interval=1):\n",
        "  return yhat + history[-interval]\n",
        "\n",
        "# load and prepare datasets\n",
        "dataset = read_csv('/content/dataset.csv', header=None, index_col=0, parse_dates=True, squeeze=True)\n",
        "X = dataset.values.astype('float32')\n",
        "history = [x for x in X]\n",
        "months_in_year = 12\n",
        "validation = read_csv('/content/validation.csv', header=None, index_col=0, parse_dates=True, squeeze=True)\n",
        "y = validation.values.astype('float32')\n",
        "\n",
        "# load model\n",
        "model_fit = ARIMAResults.load('/content/model.pkl')\n",
        "bias = numpy.load('/content/model_bias.npy')\n",
        "\n",
        "# make first prediction\n",
        "predictions = list()\n",
        "yhat = float(model_fit.forecast()[0])\n",
        "yhat = bias + inverse_difference(history, yhat, months_in_year)\n",
        "predictions.append(yhat)\n",
        "history.append(y[0])\n",
        "print('>Predicted=%.3f, Expected=%.3f' % (yhat, y[0]))\n",
        "\n",
        "# rolling forecasts\n",
        "for i in range(1, len(y)):\n",
        "\n",
        "  # difference data\n",
        "  months_in_year = 12\n",
        "  diff = difference(history, months_in_year)\n",
        "\n",
        "  # predict\n",
        "  model = ARIMA(diff, order=(0,0,1))\n",
        "  model_fit = model.fit(trend='nc', disp=0)\n",
        "  yhat = model_fit.forecast()[0]\n",
        "  yhat = bias + inverse_difference(history, yhat, months_in_year)\n",
        "  predictions.append(yhat)\n",
        "\n",
        "  # observation\n",
        "  obs = y[i]\n",
        "  history.append(obs)\n",
        "  print('>Predicted=%.3f, Expected=%.3f' % (yhat, obs))\n",
        "\n",
        "# report performance\n",
        "rmse = sqrt(mean_squared_error(y, predictions))\n",
        "print('RMSE: %.3f' % rmse)\n",
        "pyplot.plot(y)\n",
        "pyplot.plot(predictions, color='red')\n",
        "pyplot.show()"
      ],
      "execution_count": 17,
      "outputs": [
        {
          "output_type": "stream",
          "name": "stdout",
          "text": [
            ">Predicted=6794.773, Expected=6981.000\n",
            ">Predicted=10101.763, Expected=9851.000\n",
            ">Predicted=13219.067, Expected=12670.000\n",
            ">Predicted=3996.535, Expected=4348.000\n",
            ">Predicted=3465.934, Expected=3564.000\n",
            ">Predicted=4522.683, Expected=4577.000\n",
            ">Predicted=4901.336, Expected=4788.000\n",
            ">Predicted=5190.094, Expected=4618.000\n",
            ">Predicted=4930.190, Expected=5312.000\n",
            ">Predicted=4944.785, Expected=4298.000\n",
            ">Predicted=1699.409, Expected=1413.000\n",
            ">Predicted=6085.324, Expected=5877.000\n",
            "RMSE: 361.110\n"
          ]
        },
        {
          "output_type": "display_data",
          "data": {
            "image/png": "[encoded data removed]",
            "text/plain": [
              "<Figure size 432x288 with 1 Axes>"
            ]
          },
          "metadata": {
            "needs_background": "light"
          }
        }
      ]
    },
    {
      "cell_type": "markdown",
      "metadata": {
        "id": "dW0tPKrUXQuZ"
      },
      "source": [
        "Te blue line shows expected values and red shows predictions on validation set. Overall, the prediction looks quite good. The RMSE of 361.110 on the validation set is much better than RMSE of 924.699."
      ]
    }
  ]
}
